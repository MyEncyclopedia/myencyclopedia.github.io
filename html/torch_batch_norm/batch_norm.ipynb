{
 "cells": [
  {
   "cell_type": "code",
   "execution_count": 1,
   "metadata": {},
   "outputs": [],
   "source": [
    "from IPython.core.interactiveshell import InteractiveShell\n",
    "InteractiveShell.ast_node_interactivity = \"last_expr_or_assign\"\n",
    "\n",
    "import torch\n",
    "import torch.nn as nn"
   ]
  },
  {
   "cell_type": "markdown",
   "metadata": {},
   "source": [
    "## Formula\n",
    "<img src=\"bn_algorithm.png\" width=500px>\n"
   ]
  },
  {
   "cell_type": "markdown",
   "metadata": {},
   "source": [
    "## Training\n",
    "<img src=\"bn_train.png\" width=600px >\n",
    "Source: https://towardsdatascience.com/batch-norm-explained-visually-how-it-works-and-why-neural-networks-need-it-b18919692739\n"
   ]
  },
  {
   "cell_type": "markdown",
   "metadata": {},
   "source": [
    "## Test \n",
    "<img src=\"bn_test.png\" width=600px>"
   ]
  },
  {
   "cell_type": "markdown",
   "metadata": {
    "pycharm": {
     "name": "#%% md\n"
    }
   },
   "source": [
    "## BatchNorm1d Illustration"
   ]
  },
  {
   "cell_type": "code",
   "execution_count": 2,
   "metadata": {},
   "outputs": [
    {
     "data": {
      "text/plain": [
       "tensor([[ 0.,  1.,  2.,  3.,  4.],\n",
       "        [ 5.,  6.,  7.,  8.,  9.],\n",
       "        [10., 11., 12., 13., 14.]])"
      ]
     },
     "execution_count": 2,
     "metadata": {},
     "output_type": "execute_result"
    }
   ],
   "source": [
    "N, D = 3, 5\n",
    "input1d = torch.arange(N * D).reshape(N, D).float()"
   ]
  },
  {
   "cell_type": "code",
   "execution_count": 3,
   "metadata": {},
   "outputs": [
    {
     "data": {
      "text/plain": [
       "BatchNorm1d(5, eps=1e-05, momentum=0.1, affine=True, track_running_stats=True)"
      ]
     },
     "execution_count": 3,
     "metadata": {},
     "output_type": "execute_result"
    }
   ],
   "source": [
    "bn1d = nn.BatchNorm1d(D)"
   ]
  },
  {
   "cell_type": "code",
   "execution_count": 4,
   "metadata": {},
   "outputs": [
    {
     "data": {
      "text/plain": [
       "OrderedDict([('weight', tensor([1., 1., 1., 1., 1.])),\n",
       "             ('bias', tensor([0., 0., 0., 0., 0.])),\n",
       "             ('running_mean', tensor([0., 0., 0., 0., 0.])),\n",
       "             ('running_var', tensor([1., 1., 1., 1., 1.])),\n",
       "             ('num_batches_tracked', tensor(0))])"
      ]
     },
     "execution_count": 4,
     "metadata": {},
     "output_type": "execute_result"
    }
   ],
   "source": [
    "bn1d.state_dict()"
   ]
  },
  {
   "cell_type": "code",
   "execution_count": 5,
   "metadata": {},
   "outputs": [
    {
     "data": {
      "text/plain": [
       "{'training': True,\n",
       " '_parameters': OrderedDict([('weight', Parameter containing:\n",
       "               tensor([1., 1., 1., 1., 1.], requires_grad=True)),\n",
       "              ('bias',\n",
       "               Parameter containing:\n",
       "               tensor([0., 0., 0., 0., 0.], requires_grad=True))]),\n",
       " '_buffers': OrderedDict([('running_mean', tensor([0., 0., 0., 0., 0.])),\n",
       "              ('running_var', tensor([1., 1., 1., 1., 1.])),\n",
       "              ('num_batches_tracked', tensor(0))]),\n",
       " '_non_persistent_buffers_set': set(),\n",
       " '_backward_hooks': OrderedDict(),\n",
       " '_is_full_backward_hook': None,\n",
       " '_forward_hooks': OrderedDict(),\n",
       " '_forward_pre_hooks': OrderedDict(),\n",
       " '_state_dict_hooks': OrderedDict(),\n",
       " '_load_state_dict_pre_hooks': OrderedDict(),\n",
       " '_modules': OrderedDict(),\n",
       " 'num_features': 5,\n",
       " 'eps': 1e-05,\n",
       " 'momentum': 0.1,\n",
       " 'affine': True,\n",
       " 'track_running_stats': True}"
      ]
     },
     "execution_count": 5,
     "metadata": {},
     "output_type": "execute_result"
    }
   ],
   "source": [
    "vars(bn1d)"
   ]
  },
  {
   "cell_type": "code",
   "execution_count": 6,
   "metadata": {
    "pycharm": {
     "name": "#%%\n"
    }
   },
   "outputs": [
    {
     "data": {
      "text/plain": [
       "tensor([[-1.2247, -1.2247, -1.2247, -1.2247, -1.2247],\n",
       "        [ 0.0000,  0.0000,  0.0000,  0.0000,  0.0000],\n",
       "        [ 1.2247,  1.2247,  1.2247,  1.2247,  1.2247]],\n",
       "       grad_fn=<NativeBatchNormBackward>)"
      ]
     },
     "execution_count": 6,
     "metadata": {},
     "output_type": "execute_result"
    }
   ],
   "source": [
    "output1d = bn1d(input1d)"
   ]
  },
  {
   "cell_type": "code",
   "execution_count": 7,
   "metadata": {
    "pycharm": {
     "name": "#%%\n"
    }
   },
   "outputs": [
    {
     "data": {
      "text/plain": [
       "OrderedDict([('weight', tensor([1., 1., 1., 1., 1.])),\n",
       "             ('bias', tensor([0., 0., 0., 0., 0.])),\n",
       "             ('running_mean',\n",
       "              tensor([0.5000, 0.6000, 0.7000, 0.8000, 0.9000])),\n",
       "             ('running_var', tensor([3.4000, 3.4000, 3.4000, 3.4000, 3.4000])),\n",
       "             ('num_batches_tracked', tensor(1))])"
      ]
     },
     "execution_count": 7,
     "metadata": {},
     "output_type": "execute_result"
    }
   ],
   "source": [
    "bn1d.state_dict()"
   ]
  },
  {
   "cell_type": "code",
   "execution_count": 8,
   "metadata": {},
   "outputs": [
    {
     "data": {
      "text/plain": [
       "tensor([5., 6., 7., 8., 9.])"
      ]
     },
     "execution_count": 8,
     "metadata": {},
     "output_type": "execute_result"
    }
   ],
   "source": [
    "m = torch.Tensor.mean(input1d, 0)"
   ]
  },
  {
   "cell_type": "code",
   "execution_count": 9,
   "metadata": {},
   "outputs": [
    {
     "data": {
      "text/plain": [
       "tensor([16.6667, 16.6667, 16.6667, 16.6667, 16.6667])"
      ]
     },
     "execution_count": 9,
     "metadata": {},
     "output_type": "execute_result"
    }
   ],
   "source": [
    "v = torch.Tensor.var(input1d, 0, False)"
   ]
  },
  {
   "cell_type": "code",
   "execution_count": 10,
   "metadata": {},
   "outputs": [
    {
     "data": {
      "text/plain": [
       "tensor([[-1.2247, -1.2247, -1.2247, -1.2247, -1.2247],\n",
       "        [ 0.0000,  0.0000,  0.0000,  0.0000,  0.0000],\n",
       "        [ 1.2247,  1.2247,  1.2247,  1.2247,  1.2247]])"
      ]
     },
     "execution_count": 10,
     "metadata": {},
     "output_type": "execute_result"
    }
   ],
   "source": [
    "(input1d - m) / torch.sqrt(v)"
   ]
  },
  {
   "cell_type": "markdown",
   "metadata": {},
   "source": [
    "## Momentum\n",
    "\n",
    "- running_mean = momentum * running_mean + (1-momentum) * sample_mean\n",
    "- running_var = momentum * running_var + (1-momentum) * sample_var"
   ]
  },
  {
   "cell_type": "code",
   "execution_count": 11,
   "metadata": {},
   "outputs": [
    {
     "data": {
      "text/plain": [
       "BatchNorm1d(5, eps=1e-05, momentum=1, affine=True, track_running_stats=True)"
      ]
     },
     "execution_count": 11,
     "metadata": {},
     "output_type": "execute_result"
    }
   ],
   "source": [
    "bn1d_m1 = nn.BatchNorm1d(D, momentum=1)"
   ]
  },
  {
   "cell_type": "code",
   "execution_count": 12,
   "metadata": {},
   "outputs": [
    {
     "data": {
      "text/plain": [
       "tensor([[-1.2247, -1.2247, -1.2247, -1.2247, -1.2247],\n",
       "        [ 0.0000,  0.0000,  0.0000,  0.0000,  0.0000],\n",
       "        [ 1.2247,  1.2247,  1.2247,  1.2247,  1.2247]],\n",
       "       grad_fn=<NativeBatchNormBackward>)"
      ]
     },
     "execution_count": 12,
     "metadata": {},
     "output_type": "execute_result"
    }
   ],
   "source": [
    "bn1d_m1(input1d)"
   ]
  },
  {
   "cell_type": "code",
   "execution_count": 13,
   "metadata": {},
   "outputs": [
    {
     "data": {
      "text/plain": [
       "OrderedDict([('weight', tensor([1., 1., 1., 1., 1.])),\n",
       "             ('bias', tensor([0., 0., 0., 0., 0.])),\n",
       "             ('running_mean', tensor([5., 6., 7., 8., 9.])),\n",
       "             ('running_var', tensor([25., 25., 25., 25., 25.])),\n",
       "             ('num_batches_tracked', tensor(1))])"
      ]
     },
     "execution_count": 13,
     "metadata": {},
     "output_type": "execute_result"
    }
   ],
   "source": [
    "bn1d_m1.state_dict()"
   ]
  },
  {
   "cell_type": "code",
   "execution_count": 14,
   "metadata": {},
   "outputs": [
    {
     "data": {
      "text/plain": [
       "tensor([25., 25., 25., 25., 25.])"
      ]
     },
     "execution_count": 14,
     "metadata": {},
     "output_type": "execute_result"
    }
   ],
   "source": [
    "v = torch.Tensor.var(input1d, 0, True)"
   ]
  },
  {
   "cell_type": "code",
   "execution_count": 15,
   "metadata": {},
   "outputs": [
    {
     "data": {
      "text/plain": [
       "BatchNorm1d(5, eps=1e-05, momentum=0.5, affine=True, track_running_stats=True)"
      ]
     },
     "execution_count": 15,
     "metadata": {},
     "output_type": "execute_result"
    }
   ],
   "source": [
    "bn1d_m_half = nn.BatchNorm1d(D, momentum=0.5)"
   ]
  },
  {
   "cell_type": "code",
   "execution_count": 16,
   "metadata": {},
   "outputs": [
    {
     "data": {
      "text/plain": [
       "tensor([[-1.2247, -1.2247, -1.2247, -1.2247, -1.2247],\n",
       "        [ 0.0000,  0.0000,  0.0000,  0.0000,  0.0000],\n",
       "        [ 1.2247,  1.2247,  1.2247,  1.2247,  1.2247]],\n",
       "       grad_fn=<NativeBatchNormBackward>)"
      ]
     },
     "execution_count": 16,
     "metadata": {},
     "output_type": "execute_result"
    }
   ],
   "source": [
    "bn1d_m_half(input1d)"
   ]
  },
  {
   "cell_type": "code",
   "execution_count": 17,
   "metadata": {},
   "outputs": [
    {
     "data": {
      "text/plain": [
       "OrderedDict([('weight', tensor([1., 1., 1., 1., 1.])),\n",
       "             ('bias', tensor([0., 0., 0., 0., 0.])),\n",
       "             ('running_mean',\n",
       "              tensor([2.5000, 3.0000, 3.5000, 4.0000, 4.5000])),\n",
       "             ('running_var', tensor([13., 13., 13., 13., 13.])),\n",
       "             ('num_batches_tracked', tensor(1))])"
      ]
     },
     "execution_count": 17,
     "metadata": {},
     "output_type": "execute_result"
    }
   ],
   "source": [
    "bn1d_m_half.state_dict()"
   ]
  },
  {
   "cell_type": "code",
   "execution_count": 18,
   "metadata": {},
   "outputs": [
    {
     "data": {
      "text/plain": [
       "tensor([[ 0.,  2.,  4.,  6.,  8.],\n",
       "        [10., 12., 14., 16., 18.],\n",
       "        [20., 22., 24., 26., 28.]])"
      ]
     },
     "execution_count": 18,
     "metadata": {},
     "output_type": "execute_result"
    }
   ],
   "source": [
    "input1d_2 = torch.arange(0, 2 * N * D, 2).reshape(N, D).float()"
   ]
  },
  {
   "cell_type": "code",
   "execution_count": 19,
   "metadata": {},
   "outputs": [
    {
     "data": {
      "text/plain": [
       "tensor([[-1.2247, -1.2247, -1.2247, -1.2247, -1.2247],\n",
       "        [ 0.0000,  0.0000,  0.0000,  0.0000,  0.0000],\n",
       "        [ 1.2247,  1.2247,  1.2247,  1.2247,  1.2247]],\n",
       "       grad_fn=<NativeBatchNormBackward>)"
      ]
     },
     "execution_count": 19,
     "metadata": {},
     "output_type": "execute_result"
    }
   ],
   "source": [
    "bn1d_m_half(input1d_2)"
   ]
  },
  {
   "cell_type": "code",
   "execution_count": 20,
   "metadata": {},
   "outputs": [
    {
     "data": {
      "text/plain": [
       "OrderedDict([('weight', tensor([1., 1., 1., 1., 1.])),\n",
       "             ('bias', tensor([0., 0., 0., 0., 0.])),\n",
       "             ('running_mean',\n",
       "              tensor([ 6.2500,  7.5000,  8.7500, 10.0000, 11.2500])),\n",
       "             ('running_var',\n",
       "              tensor([56.5000, 56.5000, 56.5000, 56.5000, 56.5000])),\n",
       "             ('num_batches_tracked', tensor(2))])"
      ]
     },
     "execution_count": 20,
     "metadata": {},
     "output_type": "execute_result"
    }
   ],
   "source": [
    "bn1d_m_half.state_dict()"
   ]
  },
  {
   "cell_type": "code",
   "execution_count": 21,
   "metadata": {},
   "outputs": [
    {
     "data": {
      "text/plain": [
       "tensor([100., 100., 100., 100., 100.])"
      ]
     },
     "execution_count": 21,
     "metadata": {},
     "output_type": "execute_result"
    }
   ],
   "source": [
    "torch.Tensor.var(input1d_2, 0, True)"
   ]
  },
  {
   "cell_type": "code",
   "execution_count": 22,
   "metadata": {},
   "outputs": [
    {
     "data": {
      "text/plain": [
       "56.5"
      ]
     },
     "execution_count": 22,
     "metadata": {},
     "output_type": "execute_result"
    }
   ],
   "source": [
    "13*0.5 + 100*0.5"
   ]
  },
  {
   "cell_type": "markdown",
   "metadata": {},
   "source": [
    "## Affine: Weight & Bias"
   ]
  },
  {
   "cell_type": "code",
   "execution_count": 23,
   "metadata": {},
   "outputs": [
    {
     "data": {
      "text/plain": [
       "tensor([[-1.2247, -1.2247, -1.2247, -1.2247, -1.2247],\n",
       "        [ 0.0000,  0.0000,  0.0000,  0.0000,  0.0000],\n",
       "        [ 1.2247,  1.2247,  1.2247,  1.2247,  1.2247]],\n",
       "       grad_fn=<NativeBatchNormBackward>)"
      ]
     },
     "execution_count": 23,
     "metadata": {},
     "output_type": "execute_result"
    }
   ],
   "source": [
    "output1d"
   ]
  },
  {
   "cell_type": "code",
   "execution_count": 24,
   "metadata": {},
   "outputs": [],
   "source": [
    "output1d.sum().backward()"
   ]
  },
  {
   "cell_type": "code",
   "execution_count": 25,
   "metadata": {},
   "outputs": [
    {
     "data": {
      "text/plain": [
       "tensor([0., 0., 0., 0., 0.])"
      ]
     },
     "execution_count": 25,
     "metadata": {},
     "output_type": "execute_result"
    }
   ],
   "source": [
    "bn1d.weight.grad"
   ]
  },
  {
   "cell_type": "code",
   "execution_count": 26,
   "metadata": {},
   "outputs": [
    {
     "data": {
      "text/plain": [
       "tensor([3., 3., 3., 3., 3.])"
      ]
     },
     "execution_count": 26,
     "metadata": {},
     "output_type": "execute_result"
    }
   ],
   "source": [
    "bn1d.bias.grad"
   ]
  },
  {
   "cell_type": "code",
   "execution_count": 27,
   "metadata": {},
   "outputs": [
    {
     "data": {
      "text/plain": [
       "<generator object Module.parameters at 0x0000024FF147D430>"
      ]
     },
     "execution_count": 27,
     "metadata": {},
     "output_type": "execute_result"
    }
   ],
   "source": [
    "bn1d.parameters()"
   ]
  },
  {
   "cell_type": "code",
   "execution_count": 28,
   "metadata": {},
   "outputs": [
    {
     "data": {
      "text/plain": [
       "RMSprop (\n",
       "Parameter Group 0\n",
       "    alpha: 0.99\n",
       "    centered: False\n",
       "    eps: 1e-08\n",
       "    lr: 0.01\n",
       "    momentum: 0\n",
       "    weight_decay: 0\n",
       ")"
      ]
     },
     "execution_count": 28,
     "metadata": {},
     "output_type": "execute_result"
    }
   ],
   "source": [
    "optimizer = torch.optim.RMSprop(bn1d.parameters(), lr=0.01)"
   ]
  },
  {
   "cell_type": "code",
   "execution_count": 29,
   "metadata": {},
   "outputs": [],
   "source": [
    "optimizer.step()"
   ]
  },
  {
   "cell_type": "code",
   "execution_count": 30,
   "metadata": {},
   "outputs": [
    {
     "data": {
      "text/plain": [
       "Parameter containing:\n",
       "tensor([-0.1000, -0.1000, -0.1000, -0.1000, -0.1000], requires_grad=True)"
      ]
     },
     "execution_count": 30,
     "metadata": {},
     "output_type": "execute_result"
    }
   ],
   "source": [
    "bn1d.bias"
   ]
  },
  {
   "cell_type": "markdown",
   "metadata": {},
   "source": [
    "## Shape\n",
    "<img src=\"bn_shape.png\" width=600px>"
   ]
  },
  {
   "cell_type": "markdown",
   "metadata": {},
   "source": [
    "## BatchNorm2d Illustration"
   ]
  },
  {
   "cell_type": "code",
   "execution_count": 31,
   "metadata": {},
   "outputs": [],
   "source": [
    "N, C, H, W = 3, 2, 4, 5"
   ]
  },
  {
   "cell_type": "code",
   "execution_count": 32,
   "metadata": {},
   "outputs": [
    {
     "data": {
      "text/plain": [
       "tensor([[[[  0.,   1.,   2.,   3.,   4.],\n",
       "          [  5.,   6.,   7.,   8.,   9.],\n",
       "          [ 10.,  11.,  12.,  13.,  14.],\n",
       "          [ 15.,  16.,  17.,  18.,  19.]],\n",
       "\n",
       "         [[ 20.,  21.,  22.,  23.,  24.],\n",
       "          [ 25.,  26.,  27.,  28.,  29.],\n",
       "          [ 30.,  31.,  32.,  33.,  34.],\n",
       "          [ 35.,  36.,  37.,  38.,  39.]]],\n",
       "\n",
       "\n",
       "        [[[ 40.,  41.,  42.,  43.,  44.],\n",
       "          [ 45.,  46.,  47.,  48.,  49.],\n",
       "          [ 50.,  51.,  52.,  53.,  54.],\n",
       "          [ 55.,  56.,  57.,  58.,  59.]],\n",
       "\n",
       "         [[ 60.,  61.,  62.,  63.,  64.],\n",
       "          [ 65.,  66.,  67.,  68.,  69.],\n",
       "          [ 70.,  71.,  72.,  73.,  74.],\n",
       "          [ 75.,  76.,  77.,  78.,  79.]]],\n",
       "\n",
       "\n",
       "        [[[ 80.,  81.,  82.,  83.,  84.],\n",
       "          [ 85.,  86.,  87.,  88.,  89.],\n",
       "          [ 90.,  91.,  92.,  93.,  94.],\n",
       "          [ 95.,  96.,  97.,  98.,  99.]],\n",
       "\n",
       "         [[100., 101., 102., 103., 104.],\n",
       "          [105., 106., 107., 108., 109.],\n",
       "          [110., 111., 112., 113., 114.],\n",
       "          [115., 116., 117., 118., 119.]]]])"
      ]
     },
     "execution_count": 32,
     "metadata": {},
     "output_type": "execute_result"
    }
   ],
   "source": [
    "input2d = torch.arange(N * C * H * W).reshape(N, C, H, W).float()"
   ]
  },
  {
   "cell_type": "code",
   "execution_count": 33,
   "metadata": {
    "pycharm": {
     "name": "#%%\n"
    }
   },
   "outputs": [
    {
     "data": {
      "text/plain": [
       "BatchNorm2d(2, eps=1e-05, momentum=0.1, affine=True, track_running_stats=True)"
      ]
     },
     "execution_count": 33,
     "metadata": {},
     "output_type": "execute_result"
    }
   ],
   "source": [
    "bn2d = nn.BatchNorm2d(C)"
   ]
  },
  {
   "cell_type": "code",
   "execution_count": 34,
   "metadata": {},
   "outputs": [
    {
     "data": {
      "text/plain": [
       "OrderedDict([('weight', tensor([1., 1.])),\n",
       "             ('bias', tensor([0., 0.])),\n",
       "             ('running_mean', tensor([0., 0.])),\n",
       "             ('running_var', tensor([1., 1.])),\n",
       "             ('num_batches_tracked', tensor(0))])"
      ]
     },
     "execution_count": 34,
     "metadata": {},
     "output_type": "execute_result"
    }
   ],
   "source": [
    "bn2d.state_dict()"
   ]
  },
  {
   "cell_type": "code",
   "execution_count": 35,
   "metadata": {},
   "outputs": [
    {
     "data": {
      "text/plain": [
       "tensor([[[[-1.4925, -1.4624, -1.4322, -1.4021, -1.3719],\n",
       "          [-1.3418, -1.3116, -1.2815, -1.2513, -1.2212],\n",
       "          [-1.1910, -1.1609, -1.1307, -1.1006, -1.0704],\n",
       "          [-1.0403, -1.0101, -0.9799, -0.9498, -0.9196]],\n",
       "\n",
       "         [[-1.4925, -1.4624, -1.4322, -1.4021, -1.3719],\n",
       "          [-1.3418, -1.3116, -1.2815, -1.2513, -1.2212],\n",
       "          [-1.1910, -1.1609, -1.1307, -1.1006, -1.0704],\n",
       "          [-1.0403, -1.0101, -0.9799, -0.9498, -0.9196]]],\n",
       "\n",
       "\n",
       "        [[[-0.2864, -0.2563, -0.2261, -0.1960, -0.1658],\n",
       "          [-0.1357, -0.1055, -0.0754, -0.0452, -0.0151],\n",
       "          [ 0.0151,  0.0452,  0.0754,  0.1055,  0.1357],\n",
       "          [ 0.1658,  0.1960,  0.2261,  0.2563,  0.2864]],\n",
       "\n",
       "         [[-0.2864, -0.2563, -0.2261, -0.1960, -0.1658],\n",
       "          [-0.1357, -0.1055, -0.0754, -0.0452, -0.0151],\n",
       "          [ 0.0151,  0.0452,  0.0754,  0.1055,  0.1357],\n",
       "          [ 0.1658,  0.1960,  0.2261,  0.2563,  0.2864]]],\n",
       "\n",
       "\n",
       "        [[[ 0.9196,  0.9498,  0.9799,  1.0101,  1.0403],\n",
       "          [ 1.0704,  1.1006,  1.1307,  1.1609,  1.1910],\n",
       "          [ 1.2212,  1.2513,  1.2815,  1.3116,  1.3418],\n",
       "          [ 1.3719,  1.4021,  1.4322,  1.4624,  1.4925]],\n",
       "\n",
       "         [[ 0.9196,  0.9498,  0.9799,  1.0101,  1.0403],\n",
       "          [ 1.0704,  1.1006,  1.1307,  1.1609,  1.1910],\n",
       "          [ 1.2212,  1.2513,  1.2815,  1.3116,  1.3418],\n",
       "          [ 1.3719,  1.4021,  1.4322,  1.4624,  1.4925]]]],\n",
       "       grad_fn=<NativeBatchNormBackward>)"
      ]
     },
     "execution_count": 35,
     "metadata": {},
     "output_type": "execute_result"
    }
   ],
   "source": [
    "output2d = bn2d(input2d)"
   ]
  },
  {
   "cell_type": "code",
   "execution_count": 36,
   "metadata": {},
   "outputs": [
    {
     "data": {
      "text/plain": [
       "OrderedDict([('weight', tensor([1., 1.])),\n",
       "             ('bias', tensor([0., 0.])),\n",
       "             ('running_mean', tensor([4.9500, 6.9500])),\n",
       "             ('running_var', tensor([112.7559, 112.7559])),\n",
       "             ('num_batches_tracked', tensor(1))])"
      ]
     },
     "execution_count": 36,
     "metadata": {},
     "output_type": "execute_result"
    }
   ],
   "source": [
    "bn2d.state_dict()"
   ]
  },
  {
   "cell_type": "code",
   "execution_count": null,
   "metadata": {},
   "outputs": [],
   "source": []
  }
 ],
 "metadata": {
  "kernelspec": {
   "display_name": "Python 3 (ipykernel)",
   "language": "python",
   "name": "python3"
  },
  "language_info": {
   "codemirror_mode": {
    "name": "ipython",
    "version": 3
   },
   "file_extension": ".py",
   "mimetype": "text/x-python",
   "name": "python",
   "nbconvert_exporter": "python",
   "pygments_lexer": "ipython3",
   "version": "3.9.7"
  }
 },
 "nbformat": 4,
 "nbformat_minor": 1
}
